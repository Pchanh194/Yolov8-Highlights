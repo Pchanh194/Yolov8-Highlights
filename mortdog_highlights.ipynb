{
 "cells": [
  {
   "cell_type": "markdown",
   "metadata": {},
   "source": [
    "## Cut Video to Frame"
   ]
  },
  {
   "cell_type": "code",
   "execution_count": null,
   "metadata": {},
   "outputs": [],
   "source": [
    "# Framing video\n",
    "# ffmpeg -i C:/Users/phamh/OneDrive/D/01.Projects/Yolov8/Twitch/mortdog_gaming.mp4 -vf fps=1 C:/Users/phamh/OneDrive/D/01.Projects/Yolov8/frames/%d.png"
   ]
  },
  {
   "cell_type": "markdown",
   "metadata": {},
   "source": [
    "## OCR"
   ]
  },
  {
   "cell_type": "code",
   "execution_count": null,
   "metadata": {},
   "outputs": [],
   "source": [
    "# OCR\n",
    "import pytesseract\n",
    "from PIL import Image\n",
    "\n",
    "pytesseract.pytesseract.tesseract_cmd = r'đường dẫn đến Tesseract-OCR\\tesseract.exe'\n",
    "text = pytesseract.image_to_string(Image.open('đường dẫn đến frame'))\n",
    "print(text)\n"
   ]
  },
  {
   "cell_type": "code",
   "execution_count": null,
   "metadata": {},
   "outputs": [],
   "source": [
    "import pytesseract\n",
    "from PIL import Image\n",
    "import os\n",
    "\n",
    "# Đường dẫn đến thư mục chứa các ảnh\n",
    "folder_path = 'đường dẫn đến thư mục chứa các ảnh'\n",
    "\n",
    "# Đường dẫn đến Tesseract-OCR\n",
    "pytesseract.pytesseract.tesseract_cmd = r'đường dẫn đến Tesseract-OCR\\tesseract.exe'\n",
    "\n",
    "# Duyệt qua từng file trong thư mục\n",
    "for filename in os.listdir(folder_path):\n",
    "    if filename.endswith(\".png\") or filename.endswith(\".jpg\"): # Kiểm tra định dạng file\n",
    "        # Đường dẫn đầy đủ đến file ảnh\n",
    "        image_path = os.path.join(folder_path, filename)\n",
    "        \n",
    "        # Thực hiện OCR\n",
    "        text = pytesseract.image_to_string(Image.open(image_path))\n",
    "        \n",
    "        # In kết quả\n",
    "        print(f\"Kết quả OCR cho {filename}:\")\n",
    "        print(text)\n",
    "        print(\"-\" * 50)\n"
   ]
  },
  {
   "cell_type": "code",
   "execution_count": null,
   "metadata": {},
   "outputs": [],
   "source": []
  }
 ],
 "metadata": {
  "language_info": {
   "name": "python"
  }
 },
 "nbformat": 4,
 "nbformat_minor": 2
}
