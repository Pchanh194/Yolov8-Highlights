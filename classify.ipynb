{
 "cells": [
  {
   "cell_type": "code",
   "execution_count": null,
   "metadata": {},
   "outputs": [],
   "source": [
    "# Train\n",
    "from ultralytics import YOLO\n",
    "\n",
    "# Load a model\n",
    "model = YOLO('yolov8n-cls.yaml')  # build a new model from YAML\n",
    "model = YOLO('yolov8n-cls.pt')  # load a pretrained model (recommended for training)\n",
    "model = YOLO('yolov8n-cls.yaml').load('yolov8n-cls.pt')  # build from YAML and transfer weights\n",
    "\n",
    "# Train the model\n",
    "results = model.train(data='mnist160', epochs=100, imgsz=64)"
   ]
  },
  {
   "cell_type": "code",
   "execution_count": null,
   "metadata": {},
   "outputs": [],
   "source": [
    "# # Validation\n",
    "# from ultralytics import YOLO\n",
    "\n",
    "# # Load a model\n",
    "# model = YOLO('yolov8n-cls.pt')  # load an official model\n",
    "# # model = YOLO('path/to/best.pt')  # load a custom model\n",
    "\n",
    "# # Validate the model\n",
    "# metrics = model.val()  # no arguments needed, dataset and settings remembered\n",
    "# metrics.top1   # top1 accuracy\n",
    "# metrics.top5   # top5 accuracy"
   ]
  },
  {
   "cell_type": "code",
   "execution_count": 5,
   "metadata": {},
   "outputs": [
    {
     "name": "stdout",
     "output_type": "stream",
     "text": [
      "\n",
      "Downloading https://ultralytics.com/images/bus.jpg to 'bus.jpg'...\n"
     ]
    },
    {
     "name": "stderr",
     "output_type": "stream",
     "text": [
      "100%|██████████| 476k/476k [00:00<00:00, 4.26MB/s]"
     ]
    },
    {
     "name": "stdout",
     "output_type": "stream",
     "text": [
      "image 1/1 c:\\Users\\phamh\\OneDrive\\D\\01.Projects\\Yolov8\\bus.jpg: 224x224 minibus 0.43, police_van 0.29, ambulance 0.06, recreational_vehicle 0.04, bullet_train 0.03, 26.6ms\n"
     ]
    },
    {
     "name": "stderr",
     "output_type": "stream",
     "text": [
      "\n"
     ]
    },
    {
     "name": "stdout",
     "output_type": "stream",
     "text": [
      "Speed: 2.8ms preprocess, 26.6ms inference, 0.0ms postprocess per image at shape (1, 3, 224, 224)\n"
     ]
    }
   ],
   "source": [
    "# Predict\n",
    "from ultralytics import YOLO\n",
    "\n",
    "# Load a model\n",
    "model = YOLO('yolov8n-cls.pt')  # load an official model\n",
    "# model = YOLO('path/to/best.pt')  # load a custom model\n",
    "\n",
    "# Predict with the model\n",
    "results = model('https://ultralytics.com/images/bus.jpg')  # predict on an image"
   ]
  }
 ],
 "metadata": {
  "kernelspec": {
   "display_name": "base",
   "language": "python",
   "name": "python3"
  },
  "language_info": {
   "codemirror_mode": {
    "name": "ipython",
    "version": 3
   },
   "file_extension": ".py",
   "mimetype": "text/x-python",
   "name": "python",
   "nbconvert_exporter": "python",
   "pygments_lexer": "ipython3",
   "version": "3.9.18"
  }
 },
 "nbformat": 4,
 "nbformat_minor": 2
}
